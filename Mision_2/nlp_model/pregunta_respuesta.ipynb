{
 "cells": [
  {
   "cell_type": "code",
   "execution_count": 1,
   "id": "69a21489",
   "metadata": {},
   "outputs": [
    {
     "name": "stderr",
     "output_type": "stream",
     "text": [
      "c:\\Users\\DJ GORDO MIX\\github\\juanejd\\bootcamp_ia_tic\\.venv\\Lib\\site-packages\\tqdm\\auto.py:21: TqdmWarning: IProgress not found. Please update jupyter and ipywidgets. See https://ipywidgets.readthedocs.io/en/stable/user_install.html\n",
      "  from .autonotebook import tqdm as notebook_tqdm\n",
      "Some weights of the model checkpoint at mrm8488/bert-base-spanish-wwm-cased-finetuned-spa-squad2-es were not used when initializing BertForQuestionAnswering: ['bert.pooler.dense.bias', 'bert.pooler.dense.weight']\n",
      "- This IS expected if you are initializing BertForQuestionAnswering from the checkpoint of a model trained on another task or with another architecture (e.g. initializing a BertForSequenceClassification model from a BertForPreTraining model).\n",
      "- This IS NOT expected if you are initializing BertForQuestionAnswering from the checkpoint of a model that you expect to be exactly identical (initializing a BertForSequenceClassification model from a BertForSequenceClassification model).\n"
     ]
    }
   ],
   "source": [
    "from transformers import AutoModelForQuestionAnswering, AutoTokenizer\n",
    "\n",
    "model_id = \"mrm8488/bert-base-spanish-wwm-cased-finetuned-spa-squad2-es\"\n",
    "model = AutoModelForQuestionAnswering.from_pretrained(model_id)\n",
    "tokenizer = AutoTokenizer.from_pretrained(model_id)"
   ]
  },
  {
   "cell_type": "code",
   "execution_count": 2,
   "id": "10f28515",
   "metadata": {},
   "outputs": [],
   "source": [
    "context = \"Soy un Doctor que vive en Europa.Me gusta mucho el futbol\"\n",
    "question = \"¿Que deporte me gusta?\""
   ]
  },
  {
   "cell_type": "code",
   "execution_count": 3,
   "id": "f1017c46",
   "metadata": {},
   "outputs": [
    {
     "name": "stdout",
     "output_type": "stream",
     "text": [
      "{'input_ids': tensor([[    4,  1067,  1038, 10473,  1129,  2816,  1064,     5,  2020,  1049,\n",
      "          4253,  1038,  6134,  1036,  2410,  1270,  1009,  1129,  2816,  1789,\n",
      "          1040, 10404,     5]]), 'token_type_ids': tensor([[0, 0, 0, 0, 0, 0, 0, 0, 1, 1, 1, 1, 1, 1, 1, 1, 1, 1, 1, 1, 1, 1, 1]]), 'attention_mask': tensor([[1, 1, 1, 1, 1, 1, 1, 1, 1, 1, 1, 1, 1, 1, 1, 1, 1, 1, 1, 1, 1, 1, 1]])}\n"
     ]
    }
   ],
   "source": [
    "input = tokenizer(question, context, return_tensors=\"pt\")\n",
    "print(input)"
   ]
  },
  {
   "cell_type": "code",
   "execution_count": 4,
   "id": "c443a21a",
   "metadata": {},
   "outputs": [],
   "source": [
    "import torch\n",
    "\n",
    "salidas = {\n",
    "    \"input_ids\": torch.tensor(\n",
    "        [\n",
    "            [\n",
    "                4,\n",
    "                1067,\n",
    "                1038,\n",
    "                29324,\n",
    "                1847,\n",
    "                1064,\n",
    "                5,\n",
    "                2020,\n",
    "                1049,\n",
    "                4253,\n",
    "                1038,\n",
    "                6134,\n",
    "                1036,\n",
    "                2410,\n",
    "                1270,\n",
    "                1009,\n",
    "                1129,\n",
    "                2816,\n",
    "                1789,\n",
    "                1040,\n",
    "                10404,\n",
    "                5,\n",
    "            ]\n",
    "        ]\n",
    "    ),\n",
    "    \"token_type_ids\": torch.tensor(\n",
    "        [[0, 0, 0, 0, 0, 0, 0, 1, 1, 1, 1, 1, 1, 1, 1, 1, 1, 1, 1, 1, 1, 1]]\n",
    "    ),\n",
    "    \"attention_mask\": torch.tensor(\n",
    "        [[1, 1, 1, 1, 1, 1, 1, 1, 1, 1, 1, 1, 1, 1, 1, 1, 1, 1, 1, 1, 1, 1]]\n",
    "    ),\n",
    "}"
   ]
  },
  {
   "cell_type": "code",
   "execution_count": 5,
   "id": "aaaa7119",
   "metadata": {},
   "outputs": [
    {
     "name": "stdout",
     "output_type": "stream",
     "text": [
      "QuestionAnsweringModelOutput(loss=None, start_logits=tensor([[ 1.4933, -8.4283, -8.0740, -6.8037, -6.7983, -6.1451, -7.8391, -4.5331,\n",
      "         -1.3856, -3.9809, -2.2416, -4.8606, -4.6734, -4.2067, -1.4266, -6.8739,\n",
      "         -5.7209,  1.9553, -0.7485,  0.4346,  1.4888,  6.6845, -4.5328]],\n",
      "       grad_fn=<CloneBackward0>), end_logits=tensor([[ 1.8208, -7.8807, -7.9114, -5.7946, -6.7265, -6.2309, -6.9584, -5.3697,\n",
      "         -2.6152, -5.7624, -2.6314, -4.4624, -5.6189, -4.9638, -5.7476, -2.4571,\n",
      "         -2.1972, -1.6835, -1.6827, -1.5078,  0.2216,  7.3278, -5.3692]],\n",
      "       grad_fn=<CloneBackward0>), hidden_states=None, attentions=None)\n"
     ]
    }
   ],
   "source": [
    "output = model(**input)\n",
    "print(output)"
   ]
  },
  {
   "cell_type": "code",
   "execution_count": 6,
   "id": "bde15c1a",
   "metadata": {},
   "outputs": [
    {
     "name": "stdout",
     "output_type": "stream",
     "text": [
      "tensor(21) tensor(21)\n"
     ]
    }
   ],
   "source": [
    "start_index = output.start_logits.argmax()\n",
    "end_index = output.end_logits.argmax()\n",
    "\n",
    "print(start_index, end_index)"
   ]
  },
  {
   "cell_type": "code",
   "execution_count": null,
   "id": "4ae6d062",
   "metadata": {},
   "outputs": [
    {
     "name": "stdout",
     "output_type": "stream",
     "text": [
      "['futbol']\n"
     ]
    }
   ],
   "source": [
    "tokens = tokenizer.convert_ids_to_tokens(\n",
    "    input[\"input_ids\"][0][start_index : end_index + 1]\n",
    ")\n",
    "print(tokens)"
   ]
  },
  {
   "cell_type": "code",
   "execution_count": 8,
   "id": "fc51e6d8",
   "metadata": {},
   "outputs": [
    {
     "name": "stdout",
     "output_type": "stream",
     "text": [
      "futbol\n"
     ]
    }
   ],
   "source": [
    "resultado = tokenizer.convert_tokens_to_string(tokens)\n",
    "print(resultado)"
   ]
  }
 ],
 "metadata": {
  "kernelspec": {
   "display_name": ".venv",
   "language": "python",
   "name": "python3"
  },
  "language_info": {
   "codemirror_mode": {
    "name": "ipython",
    "version": 3
   },
   "file_extension": ".py",
   "mimetype": "text/x-python",
   "name": "python",
   "nbconvert_exporter": "python",
   "pygments_lexer": "ipython3",
   "version": "3.13.5"
  }
 },
 "nbformat": 4,
 "nbformat_minor": 5
}
