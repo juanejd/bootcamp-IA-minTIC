{
 "cells": [
  {
   "cell_type": "code",
   "execution_count": 1,
   "id": "64b00a8c",
   "metadata": {},
   "outputs": [
    {
     "name": "stderr",
     "output_type": "stream",
     "text": [
      "c:\\Users\\DJ GORDO MIX\\github\\juanejd\\bootcamp_ia_tic\\.venv\\Lib\\site-packages\\tqdm\\auto.py:21: TqdmWarning: IProgress not found. Please update jupyter and ipywidgets. See https://ipywidgets.readthedocs.io/en/stable/user_install.html\n",
      "  from .autonotebook import tqdm as notebook_tqdm\n",
      "c:\\Users\\DJ GORDO MIX\\github\\juanejd\\bootcamp_ia_tic\\.venv\\Lib\\site-packages\\huggingface_hub\\file_download.py:143: UserWarning: `huggingface_hub` cache-system uses symlinks by default to efficiently store duplicated files but your machine does not support them in C:\\Users\\DJ GORDO MIX\\.cache\\huggingface\\hub\\models--mrm8488--bert-base-spanish-wwm-cased-finetuned-spa-squad2-es. Caching files will still work but in a degraded version that might require more space on your disk. This warning can be disabled by setting the `HF_HUB_DISABLE_SYMLINKS_WARNING` environment variable. For more details, see https://huggingface.co/docs/huggingface_hub/how-to-cache#limitations.\n",
      "To support symlinks on Windows, you either need to activate Developer Mode or to run Python as an administrator. In order to activate developer mode, see this article: https://docs.microsoft.com/en-us/windows/apps/get-started/enable-your-device-for-development\n",
      "  warnings.warn(message)\n",
      "Some weights of the model checkpoint at mrm8488/bert-base-spanish-wwm-cased-finetuned-spa-squad2-es were not used when initializing BertForQuestionAnswering: ['bert.pooler.dense.bias', 'bert.pooler.dense.weight']\n",
      "- This IS expected if you are initializing BertForQuestionAnswering from the checkpoint of a model trained on another task or with another architecture (e.g. initializing a BertForSequenceClassification model from a BertForPreTraining model).\n",
      "- This IS NOT expected if you are initializing BertForQuestionAnswering from the checkpoint of a model that you expect to be exactly identical (initializing a BertForSequenceClassification model from a BertForSequenceClassification model).\n"
     ]
    },
    {
     "name": "stdout",
     "output_type": "stream",
     "text": [
      "{'input_ids': tensor([[    4,  1067,  1038, 10473,  1129,  2816,  1064,     5,  2020,  1049,\n",
      "          4253,  1038,  6134,  1036,  2410,  1270,  1009,  1129,  2816,  1789,\n",
      "          1040, 10404,     5]]), 'token_type_ids': tensor([[0, 0, 0, 0, 0, 0, 0, 0, 1, 1, 1, 1, 1, 1, 1, 1, 1, 1, 1, 1, 1, 1, 1]]), 'attention_mask': tensor([[1, 1, 1, 1, 1, 1, 1, 1, 1, 1, 1, 1, 1, 1, 1, 1, 1, 1, 1, 1, 1, 1, 1]])}\n"
     ]
    }
   ],
   "source": [
    "from transformers import AutoModelForQuestionAnswering, AutoTokenizer\n",
    "# ========================================================\n",
    "# Importas:\n",
    "# AutoModelForQuestionAnswering → modelo de Pregunta-Respuesta.\n",
    "# AutoTokenizer → el tokenizador correspondiente al modelo.\n",
    "# ========================================================\n",
    "# https://huggingface.co/mrm8488/bert-base-spanish-wwm-cased-finetuned-spa-squad2-es\n",
    "\n",
    "\n",
    "model_id = \"mrm8488/bert-base-spanish-wwm-cased-finetuned-spa-squad2-es\"\n",
    "# model_id Guardas el nombre del modelo de QA en español que vas a usar (entrenado con SQuAD-es).\n",
    "model = AutoModelForQuestionAnswering.from_pretrained(model_id)\n",
    "# AutoModelForQuestionAnswering\n",
    "# Es una clase de la librería Transformers diseñada específicamente para tareas de Pregunta y Respuesta (Question Answering).\n",
    "# A diferencia de un AutoModel genérico, este incluye la “capa final” (head) que predice dos posiciones dentro del texto:\n",
    "# start_logits → dónde empieza la respuesta.\n",
    "# end_logits → dónde termina la respuesta.\n",
    "# .from_pretrained(model_id)\n",
    "# Esta función carga un modelo ya entrenado (pretrained) desde:\n",
    "# Hugging Face Hub (si pones el nombre, como \"mrm8488/bert-base-spanish-wwm-cased-finetuned-spa-squad2-es\").\n",
    "# O desde una carpeta local (si tienes los archivos en tu PC).\n",
    "tokenizer = AutoTokenizer.from_pretrained(model_id)\n",
    "# El tokenizador correcto (convierte texto ↔ números).\n",
    "context = \"Soy un Doctor que vive en Europa.Me gusta mucho el futbol\"\n",
    "question = \"¿Que deporte me gusta?\"\n",
    "\n",
    "input = tokenizer(question, context, return_tensors=\"pt\")\n",
    "print(input)\n",
    "# Aquí ocurre lo clave:\n",
    "# Tomas la pregunta y el contexto, y el tokenizer los convierte en tensores numéricos que el modelo pueda entender.\n",
    "# return_tensors='pt' significa que quieres los tensores en PyTorch (si hubieras puesto 'tf', serían en TensorFlow).\n",
    "# input es un diccionario con varios tensores, típicamente:\n",
    "# =====================Nota=======================================\n",
    "# Un tensor es como una caja de datos (números, matrices, vectores, imágenes, etc.).\n",
    "# Permite hacer operaciones rápidas sobre todos los elementos a la vez (brillo, filtros, transformaciones).\n",
    "# En IA, las imágenes, texto y sonido se convierten en tensores para que las redes neuronales los procesen.\n",
    "# 👉 En resumen: el tensor es la unidad básica de datos en Deep Learning.\n",
    "# ============================================================="
   ]
  },
  {
   "cell_type": "code",
   "execution_count": 2,
   "id": "1f262fd7",
   "metadata": {},
   "outputs": [],
   "source": [
    "import torch\n",
    "\n",
    "text_tokenizado = {\n",
    "    \"input_ids\": torch.tensor(\n",
    "        [\n",
    "            [\n",
    "                4,\n",
    "                1067,\n",
    "                1038,\n",
    "                29324,\n",
    "                1847,\n",
    "                1064,\n",
    "                5,\n",
    "                2020,\n",
    "                1049,\n",
    "                4253,\n",
    "                1038,\n",
    "                6134,\n",
    "                1036,\n",
    "                2410,\n",
    "                1270,\n",
    "                1009,\n",
    "                1129,\n",
    "                2816,\n",
    "                1789,\n",
    "                1040,\n",
    "                10404,\n",
    "                5,\n",
    "            ]\n",
    "        ]\n",
    "    ),\n",
    "    \"token_type_ids\": torch.tensor(\n",
    "        [[0, 0, 0, 0, 0, 0, 0, 1, 1, 1, 1, 1, 1, 1, 1, 1, 1, 1, 1, 1, 1, 1]]\n",
    "    ),\n",
    "    \"attention_mask\": torch.tensor(\n",
    "        [[1, 1, 1, 1, 1, 1, 1, 1, 1, 1, 1, 1, 1, 1, 1, 1, 1, 1, 1, 1, 1, 1]]\n",
    "    ),\n",
    "}\n",
    "# input_ids: los IDs de los tokens (representación numérica de cada palabra).\n",
    "# token_type_ids: diferencia entre la pregunta (segmento A) y el contexto (segmento B).\n",
    "# attention_mask: indica qué tokens son reales y cuáles son padding (relleno)."
   ]
  },
  {
   "cell_type": "code",
   "execution_count": 3,
   "id": "55a92b23",
   "metadata": {},
   "outputs": [
    {
     "name": "stdout",
     "output_type": "stream",
     "text": [
      "QuestionAnsweringModelOutput(loss=None, start_logits=tensor([[ 1.4933, -8.4283, -8.0740, -6.8037, -6.7983, -6.1451, -7.8391, -4.5331,\n",
      "         -1.3856, -3.9809, -2.2416, -4.8606, -4.6734, -4.2067, -1.4266, -6.8739,\n",
      "         -5.7209,  1.9553, -0.7485,  0.4346,  1.4888,  6.6845, -4.5328]],\n",
      "       grad_fn=<CloneBackward0>), end_logits=tensor([[ 1.8208, -7.8807, -7.9114, -5.7946, -6.7265, -6.2309, -6.9584, -5.3697,\n",
      "         -2.6152, -5.7624, -2.6314, -4.4624, -5.6189, -4.9638, -5.7476, -2.4571,\n",
      "         -2.1972, -1.6835, -1.6827, -1.5078,  0.2216,  7.3278, -5.3692]],\n",
      "       grad_fn=<CloneBackward0>), hidden_states=None, attentions=None)\n"
     ]
    }
   ],
   "source": [
    "output = model(**input)\n",
    "print(output)\n",
    "# obtienes las posiciones start_logits y end_logits que marcan dónde está la respuesta en el texto."
   ]
  },
  {
   "cell_type": "code",
   "execution_count": 4,
   "id": "175c08e8",
   "metadata": {},
   "outputs": [
    {
     "name": "stdout",
     "output_type": "stream",
     "text": [
      "tensor(21) tensor(21)\n"
     ]
    }
   ],
   "source": [
    "# start_index y end_index son las coordenadas de inicio y fin de la respuesta dentro del texto tokenizado.\n",
    "start_index = output.start_logits.argmax()\n",
    "end_index = output.end_logits.argmax()\n",
    "\n",
    "print(start_index, end_index)"
   ]
  },
  {
   "cell_type": "code",
   "execution_count": 5,
   "id": "9d2bc94f",
   "metadata": {},
   "outputs": [
    {
     "name": "stdout",
     "output_type": "stream",
     "text": [
      "['futbol']\n"
     ]
    }
   ],
   "source": [
    "tokens = tokenizer.convert_ids_to_tokens(\n",
    "    input[\"input_ids\"][0][start_index : end_index + 1]\n",
    ")\n",
    "# o que hace es reconstruir las palabras de la respuesta que el modelo detectó dentro del texto\n",
    "print(tokens)"
   ]
  },
  {
   "cell_type": "code",
   "execution_count": 6,
   "id": "884a3a62",
   "metadata": {},
   "outputs": [
    {
     "name": "stdout",
     "output_type": "stream",
     "text": [
      "futbol\n"
     ]
    }
   ],
   "source": [
    "response = tokenizer.convert_tokens_to_string(tokens)\n",
    "# convert_tokens_to_string(tokens) = une esas piezas en un texto legible para humanos\n",
    "print(response)"
   ]
  }
 ],
 "metadata": {
  "kernelspec": {
   "display_name": ".venv",
   "language": "python",
   "name": "python3"
  },
  "language_info": {
   "codemirror_mode": {
    "name": "ipython",
    "version": 3
   },
   "file_extension": ".py",
   "mimetype": "text/x-python",
   "name": "python",
   "nbconvert_exporter": "python",
   "pygments_lexer": "ipython3",
   "version": "3.13.5"
  }
 },
 "nbformat": 4,
 "nbformat_minor": 5
}
