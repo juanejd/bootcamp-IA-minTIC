{
 "cells": [
  {
   "cell_type": "code",
   "execution_count": null,
   "id": "345ffe2c",
   "metadata": {},
   "outputs": [],
   "source": [
    "import math"
   ]
  },
  {
   "cell_type": "markdown",
   "id": "61794509",
   "metadata": {},
   "source": [
    "## Definir el conjunto de datos\n"
   ]
  },
  {
   "cell_type": "code",
   "execution_count": 7,
   "id": "ae55fd6f",
   "metadata": {},
   "outputs": [],
   "source": [
    "# Datos de entrenamiento\n",
    "data = [\n",
    "    (\"Hola\", \"saludo\"),\n",
    "    (\"Buenos días\", \"saludo\"),\n",
    "    (\"Buenas tardes\", \"saludo\"),\n",
    "    (\"¿Cómo estás?\", \"saludo\"),\n",
    "    (\"Quisiera hacer una queja\", \"queja\"),\n",
    "    (\"No estoy satisfecho con el servicio\", \"queja\"),\n",
    "    (\"El producto llegó dañado\", \"queja\"),\n",
    "    (\"Necesito reclamar por un error\", \"reclamo\"),\n",
    "    (\"Quiero hacer un reclamo\", \"reclamo\"),\n",
    "    (\"Esto es inaceptable, quiero una solución\", \"reclamo\"),\n",
    "    (\"Me gustaría pedir información\", \"petición\"),\n",
    "    (\"Necesito saber más detalles sobre el producto\", \"petición\"),\n",
    "    (\"Por favor, envíenme más información\", \"petición\"),\n",
    "    (\"Adiós\", \"despedida\"),\n",
    "    (\"Hasta luego\", \"despedida\"),\n",
    "    (\"Nos vemos\", \"despedida\"),\n",
    "    (\"Chao\", \"despedida\"),\n",
    "]"
   ]
  },
  {
   "cell_type": "markdown",
   "id": "611dcf86",
   "metadata": {},
   "source": [
    "## Crear un diccionario de palabras y calcular las frecuencias\n"
   ]
  },
  {
   "cell_type": "code",
   "execution_count": 17,
   "id": "f4c3883e",
   "metadata": {},
   "outputs": [
    {
     "name": "stdout",
     "output_type": "stream",
     "text": [
      "defaultdict(<function <lambda> at 0x0000017E27FAB560>, {'saludo': defaultdict(<class 'int'>, {'hola': 1, 'buenos': 1, 'días': 1, 'buenas': 1, 'tardes': 1, '¿cómo': 1, 'estás?': 1}), 'queja': defaultdict(<class 'int'>, {'quisiera': 1, 'hacer': 1, 'una': 1, 'queja': 1, 'no': 1, 'estoy': 1, 'satisfecho': 1, 'con': 1, 'el': 2, 'servicio': 1, 'producto': 1, 'llegó': 1, 'dañado': 1}), 'reclamo': defaultdict(<class 'int'>, {'necesito': 1, 'reclamar': 1, 'por': 1, 'un': 2, 'error': 1, 'quiero': 2, 'hacer': 1, 'reclamo': 1, 'esto': 1, 'es': 1, 'inaceptable,': 1, 'una': 1, 'solución': 1}), 'petición': defaultdict(<class 'int'>, {'me': 1, 'gustaría': 1, 'pedir': 1, 'información': 2, 'necesito': 1, 'saber': 1, 'más': 2, 'detalles': 1, 'sobre': 1, 'el': 1, 'producto': 1, 'por': 1, 'favor,': 1, 'envíenme': 1}), 'despedida': defaultdict(<class 'int'>, {'adiós': 1, 'hasta': 1, 'luego': 1, 'nos': 1, 'vemos': 1, 'chao': 1})})\n",
      "defaultdict(<class 'int'>, {'saludo': 7, 'queja': 14, 'reclamo': 15, 'petición': 16, 'despedida': 6})\n"
     ]
    }
   ],
   "source": [
    "from collections import defaultdict\n",
    "\n",
    "# crear un diccionario para contar las palabras por categorias\n",
    "word_freq = defaultdict(lambda: defaultdict(int))\n",
    "category_freq = defaultdict(int)\n",
    "for phrase, label in data:\n",
    "    words = phrase.lower().split()\n",
    "    category_freq[label] += 1\n",
    "    for word in words:\n",
    "        word_freq[label][word] += 1\n",
    "print(word_freq)\n",
    "\n",
    "# calcular la frecuencia total de palabras en cada categoria\n",
    "total_words = defaultdict(int)\n",
    "for label in word_freq:\n",
    "    total_words[label] = sum(word_freq[label].values())\n",
    "print(total_words)\n",
    "\n",
    "# numero total de frases\n",
    "total_phrase = len(data)"
   ]
  },
  {
   "cell_type": "code",
   "execution_count": 19,
   "id": "675e391d",
   "metadata": {},
   "outputs": [
    {
     "name": "stdout",
     "output_type": "stream",
     "text": [
      "total_words: defaultdict(<class 'int'>, {'saludo': 7, 'queja': 14, 'reclamo': 15, 'petición': 16, 'despedida': 6})\n",
      " total_phrase: 17\n"
     ]
    }
   ],
   "source": [
    "print(f\"total_words: {total_words}\\n total_phrase: {total_phrase}\")"
   ]
  },
  {
   "cell_type": "code",
   "execution_count": null,
   "id": "f0e1bea0",
   "metadata": {},
   "outputs": [
    {
     "name": "stdout",
     "output_type": "stream",
     "text": [
      "1\n"
     ]
    }
   ],
   "source": [
    "# frecuencia de palabra hola en la categoria saludo\n",
    "print(word_freq[\"saludo\"][\"hola\"])"
   ]
  },
  {
   "cell_type": "markdown",
   "id": "460ed9b6",
   "metadata": {},
   "source": [
    "## Implementar el clasificador Naive Bayes\n"
   ]
  },
  {
   "cell_type": "code",
   "execution_count": null,
   "id": "e5a3a0b8",
   "metadata": {},
   "outputs": [],
   "source": [
    "def classify_phrase(phrase):\n",
    "    words = phrase.lower().split()\n",
    "    category_scores = {}\n",
    "    for category in category_freq:\n",
    "        category_scores[category] = math.log(category_freq[category] / total_phrase)\n",
    "        for word in words:\n",
    "            # conteo de las palabras en esa categoria\n",
    "            word_count = word_freq[category].get(word, 0)\n",
    "            # tama;o del vocabulario total\n",
    "            vocab_size = len(\n",
    "                set(word for label in word_freq for word in word_freq[label])\n",
    "            )\n",
    "            # Aplicar suavizado de laplace: P(word|category)\n",
    "            prob = (word_count + 1) / (total_words[category] + vocab_size)\n",
    "            # Sumamos  el algorimo de la probabilidad\n",
    "            category_scores[category] += math.log(prob)\n",
    "    return max(category_scores, key=category_scores.get)"
   ]
  }
 ],
 "metadata": {
  "kernelspec": {
   "display_name": ".venv",
   "language": "python",
   "name": "python3"
  },
  "language_info": {
   "codemirror_mode": {
    "name": "ipython",
    "version": 3
   },
   "file_extension": ".py",
   "mimetype": "text/x-python",
   "name": "python",
   "nbconvert_exporter": "python",
   "pygments_lexer": "ipython3",
   "version": "3.13.5"
  }
 },
 "nbformat": 4,
 "nbformat_minor": 5
}
