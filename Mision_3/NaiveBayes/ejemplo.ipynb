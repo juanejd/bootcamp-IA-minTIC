{
 "cells": [
  {
   "cell_type": "code",
   "execution_count": 2,
   "id": "ae55fd6f",
   "metadata": {},
   "outputs": [],
   "source": [
    "# Datos de entrenamiento\n",
    "data = [\n",
    "    (\"Hola\", \"saludo\"),\n",
    "    (\"Buenos días\", \"saludo\"),\n",
    "    (\"Buenas tardes\", \"saludo\"),\n",
    "    (\"¿Cómo estás?\", \"saludo\"),\n",
    "    (\"Quisiera hacer una queja\", \"queja\"),\n",
    "    (\"No estoy satisfecho con el servicio\", \"queja\"),\n",
    "    (\"El producto llegó dañado\", \"queja\"),\n",
    "    (\"Necesito reclamar por un error\", \"reclamo\"),\n",
    "    (\"Quiero hacer un reclamo\", \"reclamo\"),\n",
    "    (\"Esto es inaceptable, quiero una solución\", \"reclamo\"),\n",
    "    (\"Me gustaría pedir información\", \"petición\"),\n",
    "    (\"Necesito saber más detalles sobre el producto\", \"petición\"),\n",
    "    (\"Por favor, envíenme más información\", \"petición\"),\n",
    "    (\"Adiós\", \"despedida\"),\n",
    "    (\"Hasta luego\", \"despedida\"),\n",
    "    (\"Nos vemos\", \"despedida\"),\n",
    "    (\"Chao\", \"despedida\"),\n",
    "]"
   ]
  },
  {
   "cell_type": "code",
   "execution_count": null,
   "id": "f4c3883e",
   "metadata": {},
   "outputs": [
    {
     "ename": "TabError",
     "evalue": "inconsistent use of tabs and spaces in indentation (<string>, line 9)",
     "output_type": "error",
     "traceback": [
      "  \u001b[36mFile \u001b[39m\u001b[32m<string>:9\u001b[39m\n\u001b[31m    \u001b[39m\u001b[31mfor word in words:\u001b[39m\n                      ^\n\u001b[31mTabError\u001b[39m\u001b[31m:\u001b[39m inconsistent use of tabs and spaces in indentation\n"
     ]
    }
   ],
   "source": [
    "from collections import defaultdict\n",
    "\n",
    "# crear un diccionario para contar las palabras por categorias\n",
    "word_freq = defaultdict(lambda: defaultdict(int))\n",
    "category_freq = defaultdict(int)\n",
    "for phrase, label in data:\n",
    "    words = phrase.lower().split()\n",
    "    category_freq[label] += 1\n",
    "    for word in words:\n",
    "        word_freq[label][word] += 1\n",
    "# calcular la frecuencia total de palabras en cada categoria\n",
    "total_words = defaultdict(int)\n",
    "\n",
    "for label in word_freq:\n",
    "    total_words[label] = sum(word_freq[label].values())\n",
    "\n",
    "# numero total de frases\n",
    "total_phrares = len(data)"
   ]
  },
  {
   "cell_type": "code",
   "execution_count": 10,
   "id": "675e391d",
   "metadata": {},
   "outputs": [
    {
     "name": "stdout",
     "output_type": "stream",
     "text": [
      "defaultdict(<class 'int'>, {'despedida': 1})\n"
     ]
    }
   ],
   "source": [
    "print(total_words)"
   ]
  }
 ],
 "metadata": {
  "kernelspec": {
   "display_name": ".venv",
   "language": "python",
   "name": "python3"
  },
  "language_info": {
   "codemirror_mode": {
    "name": "ipython",
    "version": 3
   },
   "file_extension": ".py",
   "mimetype": "text/x-python",
   "name": "python",
   "nbconvert_exporter": "python",
   "pygments_lexer": "ipython3",
   "version": "3.13.5"
  }
 },
 "nbformat": 4,
 "nbformat_minor": 5
}
